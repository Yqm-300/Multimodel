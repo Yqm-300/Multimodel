{
 "cells": [
  {
   "cell_type": "code",
   "execution_count": null,
   "metadata": {},
   "outputs": [],
   "source": [
    "import ee\n",
    "import geemap\n",
    "import os\n",
    "import matplotlib.pyplot as plt\n",
    "\n",
    "import sys\n",
    "sys.path.append('C:/Users/TEDYqm/Desktop/gitMS_Multimode/GoogleEarthEngine/')\n",
    "\n",
    "from function import ndvi\n",
    "from function import ndvi_mean_single\n",
    "from function import ndvi_dates_values\n",
    "\n",
    "ee.Authenticate()\n",
    "os.environ['HTTP_PROXY']='http://127.0.0.1:7890'\n",
    "os.environ['HTTPS_PROXY']='http://127.0.0.1:7890'\n",
    "ee.Initialize()"
   ]
  },
  {
   "cell_type": "code",
   "execution_count": null,
   "metadata": {},
   "outputs": [],
   "source": [
    "#边界\n",
    "china_boundary = ee.FeatureCollection(\"projects/chancy479/assets/province\")\n",
    "guangxi_cities = ee.FeatureCollection(\"projects/chancy479/assets/city2\")\n",
    "\n",
    "GX = china_boundary.filterMetadata('ID','equals','Guangxi')\n",
    "GX_cities=guangxi_cities.filterMetadata('省','equals','广西壮族自治区')\n"
   ]
  },
  {
   "cell_type": "markdown",
   "metadata": {},
   "source": [
    "将数据集按每一年分，储存在列表中\n",
    "列表为：ndvi_datasets"
   ]
  },
  {
   "cell_type": "code",
   "execution_count": null,
   "metadata": {},
   "outputs": [],
   "source": [
    "# 初始化一个空列表，用于存储数据集\n",
    "ndvi_datasets = []\n",
    "\n",
    "# 循环获取数据集\n",
    "for year in range(2000, 2021):\n",
    "    start_date = str(year) + '-01-01'\n",
    "    end_date = str(year) + '-12-31'\n",
    "    \n",
    "    # 获取数据集并筛选\n",
    "    ndvi_dataset = ee.ImageCollection('LANDSAT/LE07/C01/T1_8DAY_NDVI')\\\n",
    "        .filterBounds(GX)\\\n",
    "        .filterDate(start_date, end_date)\n",
    "        \n",
    "    # 将数据集添加到列表中\n",
    "    ndvi_datasets.append(ndvi_dataset)\n"
   ]
  },
  {
   "cell_type": "markdown",
   "metadata": {},
   "source": [
    "对ndvi_datasets列表中的每一个imagecollection应用qualityMosaic\n",
    "每一个imagecollection生成一个image\n",
    "将image添加到列表中，列表为：greenest_datasets"
   ]
  },
  {
   "cell_type": "code",
   "execution_count": null,
   "metadata": {},
   "outputs": [],
   "source": [
    "#获取了每年的最大值图片列表 greenest_datasets\n",
    "greenest_datasets = []\n",
    "\n",
    "for ndvi_dataset in ndvi_datasets:\n",
    "    greenest = ndvi_dataset.qualityMosaic('NDVI')\n",
    "    greenest_datasets.append(greenest)"
   ]
  },
  {
   "cell_type": "markdown",
   "metadata": {},
   "source": [
    "计算出列表中每张图片的ndvi平均最大值，返回带有meanNDVI的image，储存在greenest_datasets_meanMax列表中"
   ]
  },
  {
   "cell_type": "code",
   "execution_count": null,
   "metadata": {},
   "outputs": [],
   "source": [
    "# 计算单张图片的平均NDVI\n",
    "def ndvi_meanMax(image):\n",
    "    mean = image.reduceRegion(reducer=ee.Reducer.mean(), scale=30, maxPixels=1e9,geometry=GX)#计算所有波段的平均值\n",
    "    return image.set('meanNDVI', mean.get('NDVI'))\n",
    "\n",
    "#计算每张图片的平均最大值储存在greenest_datasets_meanMax\n",
    "greenest_datasets_meanMax = []\n",
    "for i in range(len(greenest_datasets)):\n",
    "    meanMax_image = ndvi_meanMax(greenest_datasets[i])\n",
    "    greenest_datasets_meanMax.append(meanMax_image)\n",
    "    "
   ]
  },
  {
   "cell_type": "code",
   "execution_count": null,
   "metadata": {},
   "outputs": [],
   "source": [
    "print(len(ndvi_values))"
   ]
  },
  {
   "cell_type": "code",
   "execution_count": null,
   "metadata": {},
   "outputs": [],
   "source": [
    "ndvi_values = []\n",
    "for i in range(18,21):\n",
    "    print(str(i))\n",
    "    mean_ndvi_value = greenest_datasets_meanMax[i].getInfo()['properties']['meanNDVI']\n",
    "    print(\"ok!\")\n",
    "    ndvi_values.append(mean_ndvi_value)"
   ]
  },
  {
   "cell_type": "markdown",
   "metadata": {},
   "source": [
    "获取每张图片的ndvi平均最大值，储存在列表 ndvi_values中"
   ]
  },
  {
   "cell_type": "code",
   "execution_count": null,
   "metadata": {},
   "outputs": [],
   "source": [
    "ndvi_values = []\n",
    "for i in range(len(greenest_datasets_meanMax)):\n",
    "    print(str(i))\n",
    "    mean_ndvi_value = greenest_datasets_meanMax[i].getInfo()['properties']['meanNDVI']\n",
    "    print(\"ok!\")\n",
    "    ndvi_values.append(mean_ndvi_value)"
   ]
  },
  {
   "cell_type": "markdown",
   "metadata": {},
   "source": [
    "把获得的ndvi列表用pickle储存在本地，不用每次都跑一遍"
   ]
  },
  {
   "cell_type": "code",
   "execution_count": null,
   "metadata": {},
   "outputs": [],
   "source": [
    "import pickle\n",
    "with open('ndvi_values_00_20.pkl', 'wb') as f:\n",
    "    pickle.dump(ndvi_values, f)"
   ]
  },
  {
   "cell_type": "code",
   "execution_count": null,
   "metadata": {},
   "outputs": [],
   "source": [
    "for i in range(len(ndvi_values)):\n",
    "    print(ndvi_values[i])"
   ]
  }
 ],
 "metadata": {
  "kernelspec": {
   "display_name": "multimode",
   "language": "python",
   "name": "python3"
  },
  "language_info": {
   "codemirror_mode": {
    "name": "ipython",
    "version": 3
   },
   "file_extension": ".py",
   "mimetype": "text/x-python",
   "name": "python",
   "nbconvert_exporter": "python",
   "pygments_lexer": "ipython3",
   "version": "3.8.17"
  },
  "orig_nbformat": 4
 },
 "nbformat": 4,
 "nbformat_minor": 2
}
