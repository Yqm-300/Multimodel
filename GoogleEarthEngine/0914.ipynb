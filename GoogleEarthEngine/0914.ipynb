{
 "cells": [
  {
   "cell_type": "code",
   "execution_count": 1,
   "metadata": {},
   "outputs": [
    {
     "data": {
      "text/html": [
       "<p>To authorize access needed by Earth Engine, open the following\n",
       "        URL in a web browser and follow the instructions:</p>\n",
       "        <p><a href=https://code.earthengine.google.com/client-auth?scopes=https%3A//www.googleapis.com/auth/earthengine%20https%3A//www.googleapis.com/auth/devstorage.full_control&request_id=Q-N7fhP8OBTIO2XJKrz7VOV46ypda6i0TfhpBsMwxiw&tc=8pQ_6ADj78frxJHiz5eDgORQ77UDGP9uSobFDT4WP5A&cc=OR2IV57yyAP-MiuagmwvOdVe4UHxcmSTmF0ai6xgTag>https://code.earthengine.google.com/client-auth?scopes=https%3A//www.googleapis.com/auth/earthengine%20https%3A//www.googleapis.com/auth/devstorage.full_control&request_id=Q-N7fhP8OBTIO2XJKrz7VOV46ypda6i0TfhpBsMwxiw&tc=8pQ_6ADj78frxJHiz5eDgORQ77UDGP9uSobFDT4WP5A&cc=OR2IV57yyAP-MiuagmwvOdVe4UHxcmSTmF0ai6xgTag</a></p>\n",
       "        <p>The authorization workflow will generate a code, which you should paste in the box below.</p>\n",
       "        "
      ],
      "text/plain": [
       "<IPython.core.display.HTML object>"
      ]
     },
     "metadata": {},
     "output_type": "display_data"
    },
    {
     "name": "stdout",
     "output_type": "stream",
     "text": [
      "\n",
      "Successfully saved authorization token.\n"
     ]
    }
   ],
   "source": [
    "import ee\n",
    "import geemap\n",
    "import os\n",
    "ee.Authenticate()\n",
    "os.environ['HTTP_PROXY']='http://127.0.0.1:7890'\n",
    "os.environ['HTTPS_PROXY']='http://127.0.0.1:7890'\n",
    "ee.Initialize()"
   ]
  },
  {
   "cell_type": "code",
   "execution_count": 3,
   "metadata": {},
   "outputs": [
    {
     "data": {
      "application/vnd.jupyter.widget-view+json": {
       "model_id": "70e527a2a4314644b0aa6620861a936e",
       "version_major": 2,
       "version_minor": 0
      },
      "text/plain": [
       "Map(center=[23.81821645035185, 108.78433096092434], controls=(WidgetControl(options=['position', 'transparent_…"
      ]
     },
     "execution_count": 3,
     "metadata": {},
     "output_type": "execute_result"
    }
   ],
   "source": [
    "china_boundary = ee.FeatureCollection(\"projects/chancy479/assets/province\")\n",
    "GuangXi = china_boundary.filterMetadata('ID','equals','Guangxi')\n",
    "\n",
    "dataset=ee.ImageCollection('LANDSAT/LC08/C02/T1_TOA')\n",
    "image=ee.Image(dataset.filterBounds(GuangXi).filterDate('2018-01-01', '2018-12-31').sort('CLOUD_COVER').first())\n",
    "\n",
    "ndvi=image.normalizedDifference(['B5','B4']).rename('NDVI')\n",
    "\n",
    "Map=geemap.Map()\n",
    "Map.centerObject(GuangXi,6)\n",
    "ndviParams={min:1,max:1,'palette':['blue','white','green']}\n",
    "Map.addLayer(ndvi,ndviParams,'NDVI image')\n",
    "Map.addLayer(GuangXi,{},'广西边界')\n",
    "Map"
   ]
  }
 ],
 "metadata": {
  "kernelspec": {
   "display_name": "multimode",
   "language": "python",
   "name": "python3"
  },
  "language_info": {
   "codemirror_mode": {
    "name": "ipython",
    "version": 3
   },
   "file_extension": ".py",
   "mimetype": "text/x-python",
   "name": "python",
   "nbconvert_exporter": "python",
   "pygments_lexer": "ipython3",
   "version": "3.8.17"
  },
  "orig_nbformat": 4
 },
 "nbformat": 4,
 "nbformat_minor": 2
}
