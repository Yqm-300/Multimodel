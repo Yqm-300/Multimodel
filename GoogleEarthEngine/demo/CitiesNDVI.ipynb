{
 "cells": [
  {
   "cell_type": "code",
   "execution_count": 17,
   "metadata": {},
   "outputs": [
    {
     "data": {
      "text/html": [
       "<p>To authorize access needed by Earth Engine, open the following\n",
       "        URL in a web browser and follow the instructions:</p>\n",
       "        <p><a href=https://code.earthengine.google.com/client-auth?scopes=https%3A//www.googleapis.com/auth/earthengine%20https%3A//www.googleapis.com/auth/devstorage.full_control&request_id=Y3SFvMTnGgWHrm4lw1-voY4asct75pgQCtoz1ySrRf0&tc=MKyBGgZbZMnaEXpGurPKjHBb9fgFI08_p9DTO0icw2M&cc=v4xmieXUEweUK1aNGbgu2anCGpEN3mSetBBboTFrXpw>https://code.earthengine.google.com/client-auth?scopes=https%3A//www.googleapis.com/auth/earthengine%20https%3A//www.googleapis.com/auth/devstorage.full_control&request_id=Y3SFvMTnGgWHrm4lw1-voY4asct75pgQCtoz1ySrRf0&tc=MKyBGgZbZMnaEXpGurPKjHBb9fgFI08_p9DTO0icw2M&cc=v4xmieXUEweUK1aNGbgu2anCGpEN3mSetBBboTFrXpw</a></p>\n",
       "        <p>The authorization workflow will generate a code, which you should paste in the box below.</p>\n",
       "        "
      ],
      "text/plain": [
       "<IPython.core.display.HTML object>"
      ]
     },
     "metadata": {},
     "output_type": "display_data"
    },
    {
     "name": "stdout",
     "output_type": "stream",
     "text": [
      "\n",
      "Successfully saved authorization token.\n"
     ]
    }
   ],
   "source": [
    "import ee\n",
    "import os\n",
    "import matplotlib.pyplot as plt\n",
    "import pickle\n",
    "\n",
    "ee.Authenticate()\n",
    "os.environ['HTTP_PROXY']='http://127.0.0.1:7890'\n",
    "os.environ['HTTPS_PROXY']='http://127.0.0.1:7890'\n",
    "ee.Initialize()"
   ]
  },
  {
   "cell_type": "markdown",
   "metadata": {},
   "source": [
    "1. 南宁市（Nanning）\n",
    "2. 柳州市（Liuzhou）\n",
    "3. 桂林市（Guilin）\n",
    "4. 梧州市（Wuzhou）\n",
    "5. 北海市（Beihai）\n",
    "6. 防城港市（Fangchenggang）\n",
    "7. 钦州市（Qinzhou）\n",
    "8. 贵港市（Guigang）\n",
    "9. 玉林市（Yulin）\n",
    "10. 百色市（Baise）\n",
    "11. 贺州市（Hezhou）\n",
    "12. 河池市（Hechi）\n",
    "13. 来宾市（Laibin）\n",
    "14. 崇左市（Chongzuo）"
   ]
  },
  {
   "cell_type": "code",
   "execution_count": 20,
   "metadata": {},
   "outputs": [
    {
     "name": "stdout",
     "output_type": "stream",
     "text": [
      "<class 'ee.featurecollection.FeatureCollection'>\n"
     ]
    }
   ],
   "source": [
    "#边界\n",
    "guangxi_cities = ee.FeatureCollection(\"projects/chancy479/assets/city2\")\n",
    "\n",
    "cities = [\n",
    "    \"南宁市\",\n",
    "    \"柳州市\",\n",
    "    \"桂林市\",\n",
    "    \"梧州市\",\n",
    "    \"北海市\",\n",
    "    \"防城港市\",\n",
    "    \"钦州市\",\n",
    "    \"贵港市\",\n",
    "    \"玉林市\",\n",
    "    \"百色市\",\n",
    "    \"贺州市\",\n",
    "    \"河池市\",\n",
    "    \"来宾市\",\n",
    "    \"崇左市\"\n",
    "]\n",
    "\n",
    "Roi = []\n",
    "for i in range(len(cities)):\n",
    "    Reigon_city = guangxi_cities.filterMetadata('市','equals',cities[i])\n",
    "    Roi.append(Reigon_city)\n",
    "    \n",
    "print(type(Roi[0]))\n"
   ]
  },
  {
   "cell_type": "code",
   "execution_count": null,
   "metadata": {},
   "outputs": [],
   "source": [
    "def get_LST(Roi):\n",
    "    # 初始化一个空列表，用于存储数据集\n",
    "    lst_datasets = []\n",
    "    # 1.循环获取数据集\n",
    "    for year in range(2000, 2023):\n",
    "        start_date = str(year) + '-01-01'\n",
    "        end_date = str(year) + '-12-31'\n",
    "        \n",
    "        # 获取数据集并筛选\n",
    "        lst_dataset = ee.ImageCollection('MODIS/061/MOD11A1')\\\n",
    "            .filterBounds(Roi)\\\n",
    "            .filterDate(start_date, end_date)\\\n",
    "            .select('LST_Day_1km')\n",
    "        # 将数据集添加到列表中\n",
    "        lst_datasets.append(lst_dataset)\n",
    "    \n",
    "    year=def get_LST(Roi):\n",
    "    # 初始化一个空列表，用于存储数据集\n",
    "    lst_datasets = []\n",
    "    # 1.循环获取数据集\n",
    "    for year in range(2000, 2023):\n",
    "        start_date = str(year) + '-01-01'\n",
    "        end_date = str(year) + '-12-31'\n",
    "        \n",
    "        # 获取数据集并筛选\n",
    "        lst_dataset = ee.ImageCollection('MODIS/061/MOD11A1')\\\n",
    "            .filterBounds(Roi)\\\n",
    "            .filterDate(start_date, end_date)\\\n",
    "            .select('LST_Day_1km')\n",
    "        # 将数据集添加到列表中\n",
    "        lst_datasets.append(lst_dataset)\n",
    "    \n",
    "    year=def get_LST(Roi):\n",
    "    # 初始化一个空列表，用于存储数据集\n",
    "    lst_datasets = []\n",
    "    # 1.循环获取数据集\n",
    "    for year in range(2000, 2023):\n",
    "        start_date = str(year) + '-01-01'\n",
    "        end_date = str(year+1) + '-01-01'\n",
    "        \n",
    "        # 获取数据集并筛选\n",
    "        lst_dataset = ee.ImageCollection('MODIS/061/MOD11A1')\\\n",
    "            .filterBounds(Roi)\\\n",
    "            .filterDate(start_date, end_date)\\\n",
    "            .select('LST_Day_1km')\n",
    "        # 将数据集添加到列表中\n",
    "        lst_datasets.append(lst_dataset)\n",
    "    \n",
    "    years=[2000, 2001, 2002, 2003, 2004, 2005, 2006, 2007, 2008, 2009, 2010, 2011, 2012, 2013, 2014, 2015, 2016, 2017, 2018, 2019, 2020, 2021]\n",
    "    months=['01','02','03','04','05','06','07','08','09','10','11','12']\n",
    "    # 初始化一个空列表，用于存储按月划分的数据集\n",
    "    monthly_lst_datasets = []\n",
    "    for i in range(len(years)-1):\n",
    "        for j in range(1,13):\n",
    "            if(j==12):\n",
    "                start_date=str(years[i]) + '-' + '12-01'\n",
    "                end_date=str(years[i+1]) + '-' + '01-01'\n",
    "                lst_datasets[i].filterDate(start_date, end_date)\n",
    "            else:\n",
    "                start_date=str(years[i]) + '-' + months[j] + '-01'\n",
    "                end_date=str(years[i]) + '-' + months[j+1] + '-01'\n",
    "                lst_datasets[i].filterDate(start_date, end_date)\n",
    "            \n",
    "            print(start_date,end_date)\n",
    "            monthly_lst_datasets.append()\n",
    "\n",
    "    #2.将每年的imagecollection reduce 成一张平均值image\n",
    "    lst_datasets_mean = []\n",
    "    for i in range(len(monthly_lst_datasets)):\n",
    "        \n",
    "        meanImage = monthly_lst_datasets[i].reduce(ee.Reducer.mean())\n",
    "        lst_datasets_mean.append(meanImage)\n",
    "    \n",
    "    # 2.计算单张图片的平均LST\n",
    "    def lst_mean(image):\n",
    "        # image=image.select('LST_Day_1km_mean')\n",
    "        mean = image.reduceRegion(reducer=ee.Reducer.mean(), scale=30, geometry=Roi,bestEffort=True)#计算所有波段的平均值\n",
    "        \n",
    "        return image.set('meanLST', mean.get('LST_Day_1km_mean'))\n",
    "\n",
    "    #3.计算每张图片的平均最大值储存在greenest_datasets_mean\n",
    "    greenest_datasets_mean = []\n",
    "    for i in range(len(lst_datasets_mean)):\n",
    "        mean_image = lst_mean(lst_datasets_mean[i])\n",
    "        greenest_datasets_mean.append(mean_image)\n",
    "    #4.取出LST\n",
    "    lst_values = []\n",
    "    for i in range(len(greenest_datasets_mean)):\n",
    "        print(str(i))#0-275\n",
    "        mean_lst_value = greenest_datasets_mean[i].getInfo()['properties']['meanLST']\n",
    "        print(\"ok!\")\n",
    "        lst_values.append(mean_lst_value)\n",
    "    \n",
    "    return lst_values\n",
    "\n",
    "    # 初始化一个空列表，用于存储按月划分的数据集\n",
    "    monthly_lst_datasets = []\n",
    "\n",
    "    \n",
    "\n",
    "\n",
    "    #2.将每年的imagecollection reduce 成一张平均值image\n",
    "    lst_datasets_mean = []\n",
    "    for i in range(len(monthly_lst_datasets)):\n",
    "        \n",
    "        meanImage = monthly_lst_datasets[i].reduce(ee.Reducer.mean())\n",
    "        lst_datasets_mean.append(meanImage)\n",
    "    \n",
    "    # 2.计算单张图片的平均LST\n",
    "    def lst_mean(image):\n",
    "        # image=image.select('LST_Day_1km_mean')\n",
    "        mean = image.reduceRegion(reducer=ee.Reducer.mean(), scale=30, geometry=Roi,bestEffort=True)#计算所有波段的平均值\n",
    "        \n",
    "        return image.set('meanLST', mean.get('LST_Day_1km_mean'))\n",
    "\n",
    "    #3.计算每张图片的平均最大值储存在greenest_datasets_mean\n",
    "    greenest_datasets_mean = []\n",
    "    for i in range(len(lst_datasets_mean)):\n",
    "        mean_image = lst_mean(lst_datasets_mean[i])\n",
    "        greenest_datasets_mean.append(mean_image)\n",
    "    #4.取出LST\n",
    "    lst_values = []\n",
    "    for i in range(len(greenest_datasets_mean)):\n",
    "        print(str(i))#0-275\n",
    "        mean_lst_value = greenest_datasets_mean[i].getInfo()['properties']['meanLST']\n",
    "        print(\"ok!\")\n",
    "        lst_values.append(mean_lst_value)\n",
    "    \n",
    "    return lst_values\n",
    "\n",
    "    # 初始化一个空列表，用于存储按月划分的数据集\n",
    "    monthly_lst_datasets = []\n",
    "\n",
    "    \n",
    "\n",
    "\n",
    "    #2.将每年的imagecollection reduce 成一张平均值image\n",
    "    lst_datasets_mean = []\n",
    "    for i in range(len(monthly_lst_datasets)):\n",
    "        \n",
    "        meanImage = monthly_lst_datasets[i].reduce(ee.Reducer.mean())\n",
    "        lst_datasets_mean.append(meanImage)\n",
    "    \n",
    "    # 2.计算单张图片的平均LST\n",
    "    def lst_mean(image):\n",
    "        # image=image.select('LST_Day_1km_mean')\n",
    "        mean = image.reduceRegion(reducer=ee.Reducer.mean(), scale=30, geometry=Roi,bestEffort=True)#计算所有波段的平均值\n",
    "        \n",
    "        return image.set('meanLST', mean.get('LST_Day_1km_mean'))\n",
    "\n",
    "    #3.计算每张图片的平均最大值储存在greenest_datasets_mean\n",
    "    greenest_datasets_mean = []\n",
    "    for i in range(len(lst_datasets_mean)):\n",
    "        mean_image = lst_mean(lst_datasets_mean[i])\n",
    "        greenest_datasets_mean.append(mean_image)\n",
    "    #4.取出LST\n",
    "    lst_values = []\n",
    "    for i in range(len(greenest_datasets_mean)):\n",
    "        print(str(i))#0-275\n",
    "        mean_lst_value = greenest_datasets_mean[i].getInfo()['properties']['meanLST']\n",
    "        print(\"ok!\")\n",
    "        lst_values.append(mean_lst_value)\n",
    "    \n",
    "    return lst_values\n"
   ]
  },
  {
   "cell_type": "code",
   "execution_count": null,
   "metadata": {},
   "outputs": [],
   "source": [
    "import pickle\n",
    "\n",
    "lst_values_cities =[]\n",
    "for i in range(len(Roi)):\n",
    "    print(cities[i])\n",
    "    lst=get_LST(Roi[i])\n",
    "    print('finish'+cities[i])\n",
    "    \n",
    "    with open('LST_values'+str(i)+'.pkl', 'wb') as f:\n",
    "        pickle.dump(lst, f)\n",
    "    lst_values_cities.append(lst)\n"
   ]
  },
  {
   "cell_type": "code",
   "execution_count": 33,
   "metadata": {},
   "outputs": [],
   "source": [
    "def ndvi_mean(image,Roi):    \n",
    "    mean = image.reduceRegion(reducer=ee.Reducer.mean(), scale=30, geometry=Roi,bestEffort=True)#计算所有波段的平均值     \n",
    "    return image.set('meanNDVI', mean.get('NDVI'))"
   ]
  },
  {
   "cell_type": "code",
   "execution_count": 48,
   "metadata": {},
   "outputs": [],
   "source": [
    "def lst_mean(image,Roi):    \n",
    "    mean = image.reduceRegion(reducer=ee.Reducer.mean(), scale=30, geometry=Roi,bestEffort=True)#计算所有波段的平均值     \n",
    "    return image.set('meanlst', mean.get('LST_Day_1km'))"
   ]
  },
  {
   "cell_type": "code",
   "execution_count": 45,
   "metadata": {},
   "outputs": [],
   "source": [
    "def GetNDVI(Roi):\n",
    "    # # 初始化一个空列表，用于存储数据集\n",
    "    # lst_datasets = []\n",
    "    # # 1.循环获取数据集\n",
    "    # for year in range(2000, 2021):\n",
    "    #     start_date = str(year) + '-01-01'\n",
    "    #     end_date = str(year+1) + '-01-01'\n",
    "        \n",
    "    #     # 获取数据集并筛选\n",
    "    #     lst_dataset = ee.ImageCollection('LANDSAT/LE07/C01/T1_8DAY_NDVI')\\\n",
    "    #         .filterBounds(Roi)\\\n",
    "    #         .filterDate(start_date, end_date)\\\n",
    "    #         .select('NDVI')\n",
    "    #     # 将数据集添加到列表中\n",
    "    #     lst_datasets.append(lst_dataset)\n",
    "\n",
    "      \n",
    "    years=[2000, 2001, 2002, 2003, 2004, 2005, 2006, 2007, 2008, 2009, 2010, 2011, 2012, 2013, 2014, 2015, 2016, 2017, 2018, 2019, 2020, 2021]\n",
    "    months=['01','02','03','04','05','06','07','08','09','10','11','12']\n",
    "    # 初始化一个空列表，用于存储按月划分的数据集\n",
    "    monthly_lst_datasets = []\n",
    "    for i in range(len(years)-1):\n",
    "            for j in range(1,13):\n",
    "                if(j==12):\n",
    "                    start_date=str(years[i]) + '-' + '12-01'\n",
    "                    end_date=str(years[i+1]) + '-' + '01-01'\n",
    "                    filtered=ee.ImageCollection('LANDSAT/LE07/C01/T1_8DAY_NDVI')\\\n",
    "                        .filterBounds(Roi)\\\n",
    "                        .filterDate(start_date, end_date)\\\n",
    "                        .select('NDVI')\n",
    "                else:\n",
    "                    start_date=str(years[i]) + '-' + months[j-1] + '-01'\n",
    "                    end_date=str(years[i]) + '-' + months[j]+ '-01'\n",
    "                    filtered=ee.ImageCollection('LANDSAT/LE07/C01/T1_8DAY_NDVI')\\\n",
    "                        .filterBounds(Roi)\\\n",
    "                        .filterDate(start_date, end_date)\\\n",
    "                        .select('NDVI')\n",
    "                monthly_lst_datasets.append(filtered)\n",
    "\n",
    "    #monthly_lst_datasets为大小为276的imagecollection的列表\n",
    "    #1.qualityMosaic为276张image\n",
    "    mean_values = []\n",
    "    for i in range(len(monthly_lst_datasets)):\n",
    "        print(str(i))\n",
    "        qualityMosaicImage = monthly_lst_datasets[i].qualityMosaic('NDVI')\n",
    "        print(qualityMosaicImage.getInfo())\n",
    "        meanImage = ndvi_mean(qualityMosaicImage,Roi)\n",
    "        print(meanImage.getInfo())\n",
    "        mean_value = meanImage.getInfo()['properties']['meanNDVI']\n",
    "        mean_values.append(mean_value)\n",
    "    \n",
    "    return mean_values\n"
   ]
  },
  {
   "cell_type": "code",
   "execution_count": 40,
   "metadata": {},
   "outputs": [
    {
     "name": "stdout",
     "output_type": "stream",
     "text": [
      "{'NDVI': None}\n"
     ]
    }
   ],
   "source": [
    "qualityMosaicImage=ee.ImageCollection('LANDSAT/LE07/C01/T1_8DAY_NDVI').first()\n",
    "meanImage = qualityMosaicImage.reduceRegion(ee.Reducer.mean(), geometry=Roi[0], scale=30,bestEffort=True)\n",
    "print(meanImage.getInfo())"
   ]
  },
  {
   "cell_type": "code",
   "execution_count": 49,
   "metadata": {},
   "outputs": [
    {
     "name": "stdout",
     "output_type": "stream",
     "text": [
      "{'type': 'Image', 'bands': [{'id': 'LST_Day_1km', 'data_type': {'type': 'PixelType', 'precision': 'int', 'min': 0, 'max': 65535}, 'dimensions': [43200, 21600], 'crs': 'SR-ORG:6974', 'crs_transform': [926.6254331383326, 0, -20015109.355797, 0, -926.6254331391667, 10007554.677903]}], 'version': 1689641319221710.0, 'id': 'MODIS/061/MOD11A1/2000_02_24', 'properties': {'system:time_start': 951350400000, 'google:max_source_file_timestamp': 1621736644000, 'system:footprint': {'type': 'LinearRing', 'coordinates': [[-180, -90], [180, -90], [180, 90], [-180, 90], [-180, -90]]}, 'system:time_end': 951436800000, 'system:asset_size': 344210188, 'system:index': '2000_02_24'}}\n"
     ]
    }
   ],
   "source": [
    "qualityMosaicImage=ee.ImageCollection('MODIS/061/MOD11A1').first().select('LST_Day_1km')\n",
    "meanImage = lst_mean(qualityMosaicImage,Roi[1])\n",
    "print(meanImage.getInfo())"
   ]
  },
  {
   "cell_type": "code",
   "execution_count": null,
   "metadata": {},
   "outputs": [],
   "source": []
  },
  {
   "cell_type": "code",
   "execution_count": 44,
   "metadata": {},
   "outputs": [
    {
     "name": "stdout",
     "output_type": "stream",
     "text": [
      "南宁市\n",
      "0\n",
      "{'type': 'Image', 'bands': [{'id': 'NDVI', 'data_type': {'type': 'PixelType', 'precision': 'float', 'min': -1, 'max': 1}, 'crs': 'EPSG:4326', 'crs_transform': [1, 0, 0, 0, 1, 0]}]}\n",
      "{'type': 'Image', 'bands': [{'id': 'NDVI', 'data_type': {'type': 'PixelType', 'precision': 'float', 'min': -1, 'max': 1}, 'crs': 'EPSG:4326', 'crs_transform': [1, 0, 0, 0, 1, 0]}]}\n"
     ]
    },
    {
     "ename": "KeyError",
     "evalue": "'properties'",
     "output_type": "error",
     "traceback": [
      "\u001b[1;31m---------------------------------------------------------------------------\u001b[0m",
      "\u001b[1;31mKeyError\u001b[0m                                  Traceback (most recent call last)",
      "\u001b[1;32mc:\\Users\\TEDYqm\\Desktop\\gitMS_Multimode\\GoogleEarthEngine\\demo\\CitiesNDVI.ipynb 单元格 9\u001b[0m line \u001b[0;36m4\n\u001b[0;32m      <a href='vscode-notebook-cell:/c%3A/Users/TEDYqm/Desktop/gitMS_Multimode/GoogleEarthEngine/demo/CitiesNDVI.ipynb#X12sZmlsZQ%3D%3D?line=1'>2</a>\u001b[0m \u001b[39mfor\u001b[39;00m i \u001b[39min\u001b[39;00m \u001b[39mrange\u001b[39m(\u001b[39mlen\u001b[39m(Roi)):\n\u001b[0;32m      <a href='vscode-notebook-cell:/c%3A/Users/TEDYqm/Desktop/gitMS_Multimode/GoogleEarthEngine/demo/CitiesNDVI.ipynb#X12sZmlsZQ%3D%3D?line=2'>3</a>\u001b[0m     \u001b[39mprint\u001b[39m(cities[i])\n\u001b[1;32m----> <a href='vscode-notebook-cell:/c%3A/Users/TEDYqm/Desktop/gitMS_Multimode/GoogleEarthEngine/demo/CitiesNDVI.ipynb#X12sZmlsZQ%3D%3D?line=3'>4</a>\u001b[0m     ndvi\u001b[39m=\u001b[39mGetNDVI(Roi[i])\n\u001b[0;32m      <a href='vscode-notebook-cell:/c%3A/Users/TEDYqm/Desktop/gitMS_Multimode/GoogleEarthEngine/demo/CitiesNDVI.ipynb#X12sZmlsZQ%3D%3D?line=4'>5</a>\u001b[0m     \u001b[39mprint\u001b[39m(\u001b[39m'\u001b[39m\u001b[39mfinish\u001b[39m\u001b[39m'\u001b[39m\u001b[39m+\u001b[39mcities[i])\n\u001b[0;32m      <a href='vscode-notebook-cell:/c%3A/Users/TEDYqm/Desktop/gitMS_Multimode/GoogleEarthEngine/demo/CitiesNDVI.ipynb#X12sZmlsZQ%3D%3D?line=6'>7</a>\u001b[0m     \u001b[39mwith\u001b[39;00m \u001b[39mopen\u001b[39m(\u001b[39m'\u001b[39m\u001b[39mNDVI_values_12months\u001b[39m\u001b[39m'\u001b[39m\u001b[39m+\u001b[39m\u001b[39mstr\u001b[39m(i)\u001b[39m+\u001b[39m\u001b[39m'\u001b[39m\u001b[39m.pkl\u001b[39m\u001b[39m'\u001b[39m, \u001b[39m'\u001b[39m\u001b[39mwb\u001b[39m\u001b[39m'\u001b[39m) \u001b[39mas\u001b[39;00m f:\n",
      "\u001b[1;32mc:\\Users\\TEDYqm\\Desktop\\gitMS_Multimode\\GoogleEarthEngine\\demo\\CitiesNDVI.ipynb 单元格 9\u001b[0m line \u001b[0;36m4\n\u001b[0;32m     <a href='vscode-notebook-cell:/c%3A/Users/TEDYqm/Desktop/gitMS_Multimode/GoogleEarthEngine/demo/CitiesNDVI.ipynb#X12sZmlsZQ%3D%3D?line=40'>41</a>\u001b[0m     meanImage \u001b[39m=\u001b[39m ndvi_mean(qualityMosaicImage,Roi)\n\u001b[0;32m     <a href='vscode-notebook-cell:/c%3A/Users/TEDYqm/Desktop/gitMS_Multimode/GoogleEarthEngine/demo/CitiesNDVI.ipynb#X12sZmlsZQ%3D%3D?line=41'>42</a>\u001b[0m     \u001b[39mprint\u001b[39m(meanImage\u001b[39m.\u001b[39mgetInfo())\n\u001b[1;32m---> <a href='vscode-notebook-cell:/c%3A/Users/TEDYqm/Desktop/gitMS_Multimode/GoogleEarthEngine/demo/CitiesNDVI.ipynb#X12sZmlsZQ%3D%3D?line=42'>43</a>\u001b[0m     mean_value \u001b[39m=\u001b[39m meanImage\u001b[39m.\u001b[39;49mgetInfo()[\u001b[39m'\u001b[39;49m\u001b[39mproperties\u001b[39;49m\u001b[39m'\u001b[39;49m][\u001b[39m'\u001b[39m\u001b[39mmeanNDVI\u001b[39m\u001b[39m'\u001b[39m]\n\u001b[0;32m     <a href='vscode-notebook-cell:/c%3A/Users/TEDYqm/Desktop/gitMS_Multimode/GoogleEarthEngine/demo/CitiesNDVI.ipynb#X12sZmlsZQ%3D%3D?line=43'>44</a>\u001b[0m     mean_values\u001b[39m.\u001b[39mappend(mean_value)\n\u001b[0;32m     <a href='vscode-notebook-cell:/c%3A/Users/TEDYqm/Desktop/gitMS_Multimode/GoogleEarthEngine/demo/CitiesNDVI.ipynb#X12sZmlsZQ%3D%3D?line=45'>46</a>\u001b[0m \u001b[39mreturn\u001b[39;00m mean_values\n",
      "\u001b[1;31mKeyError\u001b[0m: 'properties'"
     ]
    }
   ],
   "source": [
    "ndvi_values_cities =[]\n",
    "for i in range(len(Roi)):\n",
    "    print(cities[i])\n",
    "    ndvi=GetNDVI(Roi[i])\n",
    "    print('finish'+cities[i])\n",
    "    \n",
    "    with open('NDVI_values_12months'+str(i)+'.pkl', 'wb') as f:\n",
    "        pickle.dump(ndvi, f)\n",
    "    ndvi_values_cities.append(ndvi)"
   ]
  }
 ],
 "metadata": {
  "kernelspec": {
   "display_name": "multimode",
   "language": "python",
   "name": "python3"
  },
  "language_info": {
   "codemirror_mode": {
    "name": "ipython",
    "version": 3
   },
   "file_extension": ".py",
   "mimetype": "text/x-python",
   "name": "python",
   "nbconvert_exporter": "python",
   "pygments_lexer": "ipython3",
   "version": "3.8.17"
  }
 },
 "nbformat": 4,
 "nbformat_minor": 2
}
