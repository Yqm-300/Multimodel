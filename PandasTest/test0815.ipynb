{
 "cells": [
  {
   "cell_type": "code",
   "execution_count": 3,
   "metadata": {},
   "outputs": [],
   "source": [
    "import pandas as pd\n",
    "import xlrd #pip install xlrd\n",
    "\n",
    "#运行单元格 ctrl + alt + enter\n"
   ]
  },
  {
   "cell_type": "code",
   "execution_count": 4,
   "metadata": {},
   "outputs": [
    {
     "name": "stdout",
     "output_type": "stream",
     "text": [
      "     时间   品类  指标  地区 周期  单位        数值\n",
      "0  2021   小麦  产量  北京  年  万吨  6.849794\n",
      "1  2021  冬小麦  产量  北京  年  万吨  6.800000\n",
      "2  2021  春小麦  产量  北京  年  万吨  0.000000\n",
      "3  2020   小麦  产量  北京  年  万吨  4.618499\n",
      "4  2020  冬小麦  产量  北京  年  万吨  4.500000\n"
     ]
    }
   ],
   "source": [
    "#读取整个工作表数据，默认读取第一个工作表\n",
    "df_beijing = pd.read_excel('beijingchanliang.xls')#相对路径，放在跟代码同一个文件夹里\n",
    "\n",
    "#打印前几行数据\n",
    "print(df_beijing.head())"
   ]
  },
  {
   "cell_type": "code",
   "execution_count": 6,
   "metadata": {},
   "outputs": [
    {
     "name": "stdout",
     "output_type": "stream",
     "text": [
      "0     小麦\n",
      "1    冬小麦\n",
      "2    春小麦\n",
      "3     小麦\n",
      "4    冬小麦\n",
      "5    春小麦\n",
      "6     小麦\n",
      "7    冬小麦\n",
      "8    春小麦\n",
      "Name: 品类, dtype: object\n"
     ]
    }
   ],
   "source": [
    "#获取列数据\n",
    "column_data = df_beijing['品类']\n",
    "print(column_data)"
   ]
  },
  {
   "cell_type": "code",
   "execution_count": 16,
   "metadata": {},
   "outputs": [
    {
     "name": "stdout",
     "output_type": "stream",
     "text": [
      "     时间   品类  指标  地区 周期  单位        数值\n",
      "0  2021   小麦  产量  北京  年  万吨  6.849794\n",
      "1  2021  冬小麦  产量  北京  年  万吨  6.800000\n",
      "3  2020   小麦  产量  北京  年  万吨  4.618499\n",
      "4  2020  冬小麦  产量  北京  年  万吨  4.500000\n",
      "5  2020  春小麦  产量  北京  年  万吨  0.100000\n",
      "6  2019   小麦  产量  北京  年  万吨  4.410597\n",
      "7  2019  冬小麦  产量  北京  年  万吨  4.400000\n"
     ]
    }
   ],
   "source": [
    "#筛选(剔除产量为0的数据)\n",
    "filtered_data = df_beijing[df_beijing['数值']>0]\n",
    "\n",
    "print(filtered_data)"
   ]
  },
  {
   "cell_type": "code",
   "execution_count": 10,
   "metadata": {},
   "outputs": [
    {
     "name": "stdout",
     "output_type": "stream",
     "text": [
      "                时间        数值\n",
      "count     9.000000  9.000000\n",
      "mean   2020.000000  3.519877\n",
      "std       0.866025  2.785179\n",
      "min    2019.000000  0.000000\n",
      "25%    2019.000000  0.100000\n",
      "50%    2020.000000  4.410597\n",
      "75%    2021.000000  4.618499\n",
      "max    2021.000000  6.849794\n"
     ]
    }
   ],
   "source": [
    "summary=df_beijing.describe()\n",
    "print(summary)"
   ]
  },
  {
   "cell_type": "markdown",
   "metadata": {},
   "source": [
    "count()：计算非缺失值的数量。\n",
    "sum()：计算所有值的和。\n",
    "mean()：计算平均值。\n",
    "median()：计算中位数。\n",
    "std()：计算标准差。\n",
    "var()：计算方差。\n",
    "min()：找到最小值。\n",
    "max()：找到最大值。\n",
    "quantile(q)：计算给定分位数（0到1之间）的值\n"
   ]
  },
  {
   "cell_type": "code",
   "execution_count": 18,
   "metadata": {},
   "outputs": [
    {
     "name": "stdout",
     "output_type": "stream",
     "text": [
      "     时间   品类  指标  地区 周期  单位\n",
      "0  2021   小麦  产量  北京  年  万吨\n",
      "1  2021  冬小麦  产量  北京  年  万吨\n",
      "3  2020   小麦  产量  北京  年  万吨\n",
      "4  2020  冬小麦  产量  北京  年  万吨\n",
      "5  2020  春小麦  产量  北京  年  万吨\n",
      "6  2019   小麦  产量  北京  年  万吨\n",
      "7  2019  冬小麦  产量  北京  年  万吨\n",
      "0    6.849794\n",
      "1    6.800000\n",
      "3    4.618499\n",
      "4    4.500000\n",
      "5    0.100000\n",
      "6    4.410597\n",
      "7    4.400000\n",
      "Name: 数值, dtype: float64\n"
     ]
    }
   ],
   "source": [
    "#数据集制作\n",
    "#1.分割特征和标签 （最后一列是标签列）\n",
    "features  = filtered_data.iloc[:, :-1] #所有列除了最后一列\n",
    "print(features)\n",
    "\n",
    "labels = filtered_data['数值']\n",
    "print(labels)"
   ]
  },
  {
   "cell_type": "code",
   "execution_count": 30,
   "metadata": {},
   "outputs": [
    {
     "name": "stdout",
     "output_type": "stream",
     "text": [
      "[1 0 1 0 2 1 0]\n",
      "[0 0 0 0 0 0 0]\n",
      "     时间  品类  地区\n",
      "0  2021   1   0\n",
      "1  2021   0   0\n",
      "3  2020   1   0\n",
      "4  2020   0   0\n",
      "5  2020   2   0\n",
      "6  2019   1   0\n",
      "7  2019   0   0\n"
     ]
    }
   ],
   "source": [
    "#文本特征处理\n",
    "#1.标签编码 转换为整数值\n",
    "from sklearn.preprocessing import LabelEncoder\n",
    "\n",
    "label_encoder = LabelEncoder()#实例化一个labelencoder\n",
    "encoded_variety = label_encoder.fit_transform(features['品类'])\n",
    "encoded_region = label_encoder.fit_transform(features['地区'])\n",
    "print(encoded_variety)\n",
    "print(encoded_region)\n",
    "\n",
    "#替换原有的文本列（品类、地区）\n",
    "features['品类'] = encoded_variety\n",
    "features['地区'] = encoded_region\n",
    "\n",
    "#删除不必要的列\n",
    "features=features.drop('指标',axis=1)\n",
    "features=features.drop('周期',axis=1)\n",
    "features=features.drop('单位',axis=1)\n",
    "print(features)\n"
   ]
  },
  {
   "cell_type": "code",
   "execution_count": 26,
   "metadata": {},
   "outputs": [
    {
     "name": "stdout",
     "output_type": "stream",
     "text": [
      "   Variety_冬小麦  Variety_小麦  Variety_春小麦\n",
      "0            0           1            0\n",
      "1            1           0            0\n",
      "3            0           1            0\n",
      "4            1           0            0\n",
      "5            0           0            1\n",
      "6            0           1            0\n",
      "7            1           0            0\n"
     ]
    }
   ],
   "source": [
    "#2.独热编码\n",
    "one_hot_variety = pd.get_dummies(features['品类'], prefix='Variety')\n",
    "one_hot_region = pd.get_dummies(features['地区'], prefix='Region')\n",
    "print(one_hot_variety)"
   ]
  },
  {
   "cell_type": "markdown",
   "metadata": {},
   "source": [
    "文本向量化：如果你有更复杂的文本特征，如商品描述或地区描述，你可能需要将它们转换成数值特征。常用的方法包括词袋模型、TF-IDF表示和词嵌入（如Word2Vec、GloVe）等。这些方法将文本转换为向量表示，以便模型可以处理。"
   ]
  },
  {
   "cell_type": "code",
   "execution_count": null,
   "metadata": {},
   "outputs": [],
   "source": [
    "# #3.文本向量化\n",
    "# from sklearn.feature_extraction.text import CountVectorizer, TfidfVectorizer\n",
    "\n",
    "# # 词袋模型\n",
    "# count_vectorizer = CountVectorizer()\n",
    "# count_features = count_vectorizer.fit_transform(features['Description'])\n",
    "\n",
    "# # TF-IDF表示\n",
    "# tfidf_vectorizer = TfidfVectorizer()\n",
    "# tfidf_features = tfidf_vectorizer.fit_transform(features['Description'])\n"
   ]
  },
  {
   "cell_type": "code",
   "execution_count": 31,
   "metadata": {},
   "outputs": [
    {
     "name": "stdout",
     "output_type": "stream",
     "text": [
      "     时间  品类  地区        数值\n",
      "0  2021   1   0  6.849794\n",
      "1  2021   0   0  6.800000\n",
      "3  2020   1   0  4.618499\n",
      "4  2020   0   0  4.500000\n",
      "5  2020   2   0  0.100000\n",
      "6  2019   1   0  4.410597\n",
      "7  2019   0   0  4.400000\n"
     ]
    }
   ],
   "source": [
    "#合并特征和标签\n",
    "final_data = pd.concat([features,labels],axis=1)#axis=1 沿着列的方向进行操作\n",
    "print(final_data)\n",
    "\n",
    "#保存数据集为csv格式\n",
    "final_data.to_csv('processed_data.csv',index=False)#不包含行索引"
   ]
  }
 ],
 "metadata": {
  "kernelspec": {
   "display_name": "mytorch92",
   "language": "python",
   "name": "python3"
  },
  "language_info": {
   "codemirror_mode": {
    "name": "ipython",
    "version": 3
   },
   "file_extension": ".py",
   "mimetype": "text/x-python",
   "name": "python",
   "nbconvert_exporter": "python",
   "pygments_lexer": "ipython3",
   "version": "3.8.13"
  },
  "orig_nbformat": 4
 },
 "nbformat": 4,
 "nbformat_minor": 2
}
