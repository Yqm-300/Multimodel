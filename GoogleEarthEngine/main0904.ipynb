{
 "cells": [
  {
   "cell_type": "code",
   "execution_count": 1,
   "metadata": {},
   "outputs": [
    {
     "data": {
      "text/html": [
       "<p>To authorize access needed by Earth Engine, open the following\n",
       "        URL in a web browser and follow the instructions:</p>\n",
       "        <p><a href=https://code.earthengine.google.com/client-auth?scopes=https%3A//www.googleapis.com/auth/earthengine%20https%3A//www.googleapis.com/auth/devstorage.full_control&request_id=q7ikPZA6Bp3yu042xAEYQbDm1sZ_it8EJbuJArF5Itw&tc=wgTtV16iuVeop7WNe5-qVm39AWZq1a2CtvNqJXSvsf4&cc=GF5poK3BotphHBV9L2BGJ7bWagAlqDjQSqe4qweH2VU>https://code.earthengine.google.com/client-auth?scopes=https%3A//www.googleapis.com/auth/earthengine%20https%3A//www.googleapis.com/auth/devstorage.full_control&request_id=q7ikPZA6Bp3yu042xAEYQbDm1sZ_it8EJbuJArF5Itw&tc=wgTtV16iuVeop7WNe5-qVm39AWZq1a2CtvNqJXSvsf4&cc=GF5poK3BotphHBV9L2BGJ7bWagAlqDjQSqe4qweH2VU</a></p>\n",
       "        <p>The authorization workflow will generate a code, which you should paste in the box below.</p>\n",
       "        "
      ],
      "text/plain": [
       "<IPython.core.display.HTML object>"
      ]
     },
     "metadata": {},
     "output_type": "display_data"
    },
    {
     "name": "stdout",
     "output_type": "stream",
     "text": [
      "\n",
      "Successfully saved authorization token.\n"
     ]
    }
   ],
   "source": [
    "import ee\n",
    "import geemap\n",
    "import os\n",
    "ee.Authenticate()\n",
    "os.environ['HTTP_PROXY']='http://127.0.0.1:7890'\n",
    "os.environ['HTTPS_PROXY']='http://127.0.0.1:7890'\n",
    "ee.Initialize()"
   ]
  },
  {
   "cell_type": "code",
   "execution_count": 2,
   "metadata": {},
   "outputs": [
    {
     "name": "stdout",
     "output_type": "stream",
     "text": [
      "<class 'ee.featurecollection.FeatureCollection'>\n",
      "<class 'ee.featurecollection.FeatureCollection'>\n",
      "<class 'ee.geometry.Geometry'>\n",
      "<class 'ee.geometry.Geometry'>\n"
     ]
    }
   ],
   "source": [
    "# 加载中国的行政边界数据（已经上传到 GEE）\n",
    "china_boundary = ee.FeatureCollection(\"projects/chancy479/assets/province\")\n",
    "guangxi_cities = ee.FeatureCollection(\"projects/chancy479/assets/city2\")\n",
    "\n",
    "GX = china_boundary.filterMetadata('ID','equals','Guangxi')\n",
    "GX_cities=guangxi_cities.filterMetadata('省','equals','广西壮族自治区')\n",
    "\n",
    "print(type(GX))\n",
    "print(type(GX_cities))\n",
    "GX_bounds=GX_cities.geometry().bounds()\n",
    "GX_geometry=GX_cities.geometry()\n",
    "print(type(GX_bounds))\n",
    "print(type(GX_geometry))\n"
   ]
  },
  {
   "cell_type": "code",
   "execution_count": 5,
   "metadata": {},
   "outputs": [
    {
     "data": {
      "application/vnd.jupyter.widget-view+json": {
       "model_id": "40a684bbf2e942e0bc73849552319d3f",
       "version_major": 2,
       "version_minor": 0
      },
      "text/plain": [
       "Map(center=[23.819893355070292, 108.78459567042276], controls=(WidgetControl(options=['position', 'transparent…"
      ]
     },
     "execution_count": 5,
     "metadata": {},
     "output_type": "execute_result"
    }
   ],
   "source": [
    "#0918 现成ndvi数据集\n",
    "datasetNDVI=ee.ImageCollection(\"LANDSAT/LC08/C01/T1_8DAY_NDVI\").filterDate('2017-01-01','2017-12-31').filterBounds(GX_geometry)\n",
    "Map2=geemap.Map()\n",
    "Map2.center_object(GX_geometry, 6)\n",
    "Map2.addLayer(datasetNDVI, {}, 'NDVI')\n",
    "Map2.addLayer(GX_geometry,{},'GX')\n",
    "Map2\n"
   ]
  },
  {
   "cell_type": "markdown",
   "metadata": {},
   "source": [
    "0918 当前任务\n",
    "1.用自带ndvi的数据集导出时间序列的数据\n",
    "2.可视化图表"
   ]
  },
  {
   "cell_type": "code",
   "execution_count": null,
   "metadata": {},
   "outputs": [],
   "source": []
  },
  {
   "cell_type": "code",
   "execution_count": null,
   "metadata": {},
   "outputs": [],
   "source": [
    "# guangxi=GX.geometry().bounds()\n",
    "#导入并筛选\n",
    "dataset_LANDSAT=ee.ImageCollection('LANDSAT/LC08/C02/T1_TOA')\n",
    "# filtered_LANDSAT = dataset_LANDSAT.filterBounds(guangxi).filterDate('2022-07-01', '2022-8-15')\n",
    "# print('图片数量：', filtered_LANDSAT.size().getInfo())"
   ]
  },
  {
   "cell_type": "code",
   "execution_count": null,
   "metadata": {},
   "outputs": [],
   "source": [
    "#运用到整个collection\n",
    "withNDVI=filtered_LANDSAT.map(NDVI_V2)"
   ]
  },
  {
   "cell_type": "code",
   "execution_count": null,
   "metadata": {},
   "outputs": [],
   "source": [
    "#图表展示\n",
    "# ndvi_list=withNDVI.select('NDVI')\n",
    "from function import ndvi_mean_single\n",
    "\n",
    "# 对影像集合中的每个影像应用函数\n",
    "ndvi_list_with_mean = withNDVI.map(ndvi_mean_single)\n",
    "\n",
    "# 从Earth Engine中获取数据\n",
    "ndvi_data = ndvi_list_with_mean.getInfo()\n",
    "print(ndvi_data)\n",
    "# 提取NDVI值并创建图表\n",
    "dates = [ee.Date(image['properties']['system:time_start']).format('YYYY-MM-dd').getInfo() for image in ndvi_data['features']]\n",
    "ndvi_values = [image['properties']['mean'] for image in ndvi_data['features']]\n",
    "\n",
    "\n"
   ]
  },
  {
   "cell_type": "code",
   "execution_count": null,
   "metadata": {},
   "outputs": [],
   "source": [
    "dates=['2022-07-24', '2022-08-09', '2022-07-08', '2022-07-24', '2022-08-09', '2022-07-08', '2022-07-24', '2022-08-09', '2022-07-15', '2022-07-31', '2022-07-15', '2022-07-31', '2022-07-15', '2022-07-31', '2022-07-15', '2022-07-31', '2022-07-06', '2022-07-22', '2022-08-07', '2022-07-22', '2022-08-07', '2022-07-22', '2022-08-07', '2022-07-22', '2022-08-07', '2022-07-13', '2022-07-29', '2022-08-14', '2022-07-13', '2022-08-14', '2022-07-13', '2022-07-29', '2022-08-14', '2022-07-13', '2022-07-29', '2022-08-14', '2022-07-04', '2022-08-05', '2022-07-04', '2022-07-20', '2022-07-04', '2022-07-20', '2022-08-05', '2022-07-04', '2022-07-20', '2022-08-05', '2022-07-11', '2022-07-27']\n",
    "ndvi_values=[0.6224891229159758, 0.4137011136268202, 0.20105250432726193, 0.5673816183536797, 0.17058578851900366, 0.10411045655263941, 0.25172195517759344, 0.10414962175388275, 0.5148410472982334, 0.460596666170623, 0.41311768861829795, 0.3627487050384729, 0.3702207097772434, 0.47953007793086894, 0.20745407611457298, 0.30214927623114585, 0.40143209577166683, 0.42895330585556235, 0.42055707507464596, 0.45755543920681835, 0.3581472181111591, 0.481879096948566, 0.3701783282988511, 0.21730183979146997, 0.16182136408745054, 0.4932463238150221, 0.23479611709647968, 0.26695998444664165, 0.49727704624093333, 0.2703583233797422, 0.4703663168026691, 0.31960862224383996, 0.4023258286336314, 0.3053730280747405, 0.3826728215756906, 0.32559575041099725, 0.4480053285881517, 0.24339032621214954, 0.5566915699788084, 0.2191250107203655, 0.3950761678995294, 0.28238829640718593, 0.18895053471937265, 0.34159249949738946, 0.23883686409757973, 0.2303898068911841, 0.43632013766982236, 0.6255348817058678]\n",
    "from function import remove_duplicates\n",
    "sorted_dates,sorted_ndvi_values=remove_duplicates(dates,ndvi_values)\n"
   ]
  },
  {
   "cell_type": "code",
   "execution_count": null,
   "metadata": {},
   "outputs": [],
   "source": [
    "import matplotlib.pyplot as plt\n",
    "x_values=sorted_dates\n",
    "y_values=sorted_ndvi_values\n",
    "\n",
    "plt.xticks(range(len(x_values)), x_values)\n",
    "plt.plot(x_values, y_values,  marker='o', linestyle='-')\n",
    "plt.title('NDVI IMAGE SERIES')\n",
    "plt.xlabel('Dates')\n",
    "plt.ylabel('mean NDVI ')\n",
    "plt.xticks(rotation=45)\n",
    "\n",
    "plt.show()"
   ]
  }
 ],
 "metadata": {
  "kernelspec": {
   "display_name": "multimode",
   "language": "python",
   "name": "python3"
  },
  "language_info": {
   "codemirror_mode": {
    "name": "ipython",
    "version": 3
   },
   "file_extension": ".py",
   "mimetype": "text/x-python",
   "name": "python",
   "nbconvert_exporter": "python",
   "pygments_lexer": "ipython3",
   "version": "3.8.17"
  },
  "orig_nbformat": 4
 },
 "nbformat": 4,
 "nbformat_minor": 2
}
