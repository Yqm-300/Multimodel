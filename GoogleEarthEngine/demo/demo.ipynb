{
 "cells": [
  {
   "cell_type": "code",
   "execution_count": null,
   "metadata": {},
   "outputs": [],
   "source": [
    "import ee\n",
    "import geemap\n",
    "import os\n",
    "import matplotlib.pyplot as plt\n",
    "from function import ndvi\n",
    "from function import ndvi_mean_single\n",
    "from function import ndvi_dates_values\n",
    "\n",
    "ee.Authenticate()\n",
    "os.environ['HTTP_PROXY']='http://127.0.0.1:7890'\n",
    "os.environ['HTTPS_PROXY']='http://127.0.0.1:7890'\n",
    "ee.Initialize()"
   ]
  }
 ],
 "metadata": {
  "language_info": {
   "name": "python"
  },
  "orig_nbformat": 4
 },
 "nbformat": 4,
 "nbformat_minor": 2
}
