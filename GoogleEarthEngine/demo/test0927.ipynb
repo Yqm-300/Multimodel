{
 "cells": [
  {
   "cell_type": "code",
   "execution_count": null,
   "metadata": {},
   "outputs": [],
   "source": [
    "import pandas as pd\n",
    "import pickle"
   ]
  },
  {
   "cell_type": "code",
   "execution_count": null,
   "metadata": {},
   "outputs": [],
   "source": [
    "#加载时间序列数据集列表\n",
    "with open('data/Datesets_timesequence.pkl', 'rb') as f:\n",
    "    Datesets_timesequence = pickle.load(f)\n",
    "    "
   ]
  },
  {
   "cell_type": "markdown",
   "metadata": {},
   "source": [
    "ndvi/lst_values是一个二维列表，其中每个元素代表一个城市，每个元素又是一个列表，这个列表的每个是元素是一个城市某一年的值"
   ]
  },
  {
   "cell_type": "code",
   "execution_count": 18,
   "metadata": {},
   "outputs": [
    {
     "name": "stdout",
     "output_type": "stream",
     "text": [
      "         NDVI0          LST0\n",
      "Date                        \n",
      "2000  0.562218  15009.046262\n",
      "2001  0.558159  14916.416435\n",
      "2002  0.613569  14986.345440\n",
      "2003  0.509337  14942.887050\n",
      "2004  0.545628  15000.667476\n",
      "2005  0.591497  14999.167377\n",
      "2006  0.538546  14984.889727\n",
      "2007  0.574290  14973.578029\n",
      "2008  0.545446  14909.548304\n",
      "2009  0.527253  14946.768911\n",
      "2010  0.570588  14927.696393\n",
      "2011  0.503734  14945.403567\n",
      "2012  0.503664  15005.324149\n",
      "2013  0.603724  14927.782933\n",
      "2014  0.566452  14842.248582\n",
      "2015  0.619616  14932.568812\n",
      "2016  0.636992  14926.840423\n",
      "2017  0.616352  14871.711578\n",
      "2018  0.631016  14921.897108\n",
      "2019  0.590569  14968.394713\n",
      "2020  0.615767  14921.475746\n"
     ]
    }
   ],
   "source": [
    "print(Datesets_timesequence[0])"
   ]
  },
  {
   "cell_type": "code",
   "execution_count": null,
   "metadata": {},
   "outputs": [],
   "source": [
    "# 插入新的特征列 'Humidity'\n",
    "df_exp['Humidity'] = [50, 52, 55, 60, 62, 65, 68, 70, 72, 75]\n"
   ]
  }
 ],
 "metadata": {
  "kernelspec": {
   "display_name": "multimode",
   "language": "python",
   "name": "python3"
  },
  "language_info": {
   "codemirror_mode": {
    "name": "ipython",
    "version": 3
   },
   "file_extension": ".py",
   "mimetype": "text/x-python",
   "name": "python",
   "nbconvert_exporter": "python",
   "pygments_lexer": "ipython3",
   "version": "3.8.17"
  },
  "orig_nbformat": 4
 },
 "nbformat": 4,
 "nbformat_minor": 2
}
