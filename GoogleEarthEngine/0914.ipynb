{
 "cells": [
  {
   "cell_type": "code",
   "execution_count": 1,
   "metadata": {},
   "outputs": [
    {
     "data": {
      "text/html": [
       "<p>To authorize access needed by Earth Engine, open the following\n",
       "        URL in a web browser and follow the instructions:</p>\n",
       "        <p><a href=https://code.earthengine.google.com/client-auth?scopes=https%3A//www.googleapis.com/auth/earthengine%20https%3A//www.googleapis.com/auth/devstorage.full_control&request_id=TLpH1MzLaZagvO_OC3T7z-Vh9dZN0r54BK8YS2Qc9a4&tc=G95r-clW_B5Di_LWOQ1jXbTbPVHHela3d2Z-jFrJ9wc&cc=-_7dmiogDbMLkN8LnXYIWVN5BXGQVl70AghFECodHgE>https://code.earthengine.google.com/client-auth?scopes=https%3A//www.googleapis.com/auth/earthengine%20https%3A//www.googleapis.com/auth/devstorage.full_control&request_id=TLpH1MzLaZagvO_OC3T7z-Vh9dZN0r54BK8YS2Qc9a4&tc=G95r-clW_B5Di_LWOQ1jXbTbPVHHela3d2Z-jFrJ9wc&cc=-_7dmiogDbMLkN8LnXYIWVN5BXGQVl70AghFECodHgE</a></p>\n",
       "        <p>The authorization workflow will generate a code, which you should paste in the box below.</p>\n",
       "        "
      ],
      "text/plain": [
       "<IPython.core.display.HTML object>"
      ]
     },
     "metadata": {},
     "output_type": "display_data"
    },
    {
     "name": "stdout",
     "output_type": "stream",
     "text": [
      "\n",
      "Successfully saved authorization token.\n"
     ]
    }
   ],
   "source": [
    "import ee\n",
    "import geemap\n",
    "import os\n",
    "ee.Authenticate()\n",
    "os.environ['HTTP_PROXY']='http://127.0.0.1:7890'\n",
    "os.environ['HTTPS_PROXY']='http://127.0.0.1:7890'\n",
    "ee.Initialize()"
   ]
  },
  {
   "cell_type": "code",
   "execution_count": 3,
   "metadata": {},
   "outputs": [
    {
     "data": {
      "application/vnd.jupyter.widget-view+json": {
       "model_id": "1d4e1564981841bfa3bffe4735ac8481",
       "version_major": 2,
       "version_minor": 0
      },
      "text/plain": [
       "Map(center=[37.7726, -122.3578], controls=(WidgetControl(options=['position', 'transparent_bg'], widget=HBox(c…"
      ]
     },
     "execution_count": 3,
     "metadata": {},
     "output_type": "execute_result"
    }
   ],
   "source": [
    "Map = geemap.Map()\n",
    "collection = ee.ImageCollection('LANDSAT/LC08/C02/T1_TOA').filter(ee.Filter.eq('WRS_PATH', 44)).filter(ee.Filter.eq('WRS_ROW', 34)).filterDate('2014-01-01', '2015-01-01')\n",
    "# // Compute a median image and display.\n",
    "median = collection.median()\n",
    "Map.setCenter(-122.3578, 37.7726, 12)\n",
    "Map.addLayer(median, {'bands': ['B4', 'B3', 'B2'], max: 0.3}, 'Median')\n",
    "Map"
   ]
  },
  {
   "cell_type": "code",
   "execution_count": 2,
   "metadata": {},
   "outputs": [
    {
     "ename": "NameError",
     "evalue": "name 'ee' is not defined",
     "output_type": "error",
     "traceback": [
      "\u001b[1;31m---------------------------------------------------------------------------\u001b[0m",
      "\u001b[1;31mNameError\u001b[0m                                 Traceback (most recent call last)",
      "Cell \u001b[1;32mIn[2], line 2\u001b[0m\n\u001b[0;32m      1\u001b[0m \u001b[39mfrom\u001b[39;00m \u001b[39mfunction\u001b[39;00m \u001b[39mimport\u001b[39;00m ndvi\u001b[39m#引入计算ndvi函数\u001b[39;00m\n\u001b[1;32m----> 2\u001b[0m collection \u001b[39m=\u001b[39m ee\u001b[39m.\u001b[39mImageCollection(\u001b[39m'\u001b[39m\u001b[39mLANDSAT/LC08/C02/T1_TOA\u001b[39m\u001b[39m'\u001b[39m)\u001b[39m.\u001b[39mfilter(ee\u001b[39m.\u001b[39mFilter\u001b[39m.\u001b[39meq(\u001b[39m'\u001b[39m\u001b[39mWRS_PATH\u001b[39m\u001b[39m'\u001b[39m, \u001b[39m44\u001b[39m))\u001b[39m.\u001b[39mfilter(ee\u001b[39m.\u001b[39mFilter\u001b[39m.\u001b[39meq(\u001b[39m'\u001b[39m\u001b[39mWRS_ROW\u001b[39m\u001b[39m'\u001b[39m, \u001b[39m34\u001b[39m))\u001b[39m.\u001b[39mfilterDate(\u001b[39m'\u001b[39m\u001b[39m2014-01-01\u001b[39m\u001b[39m'\u001b[39m, \u001b[39m'\u001b[39m\u001b[39m2015-01-01\u001b[39m\u001b[39m'\u001b[39m)\n\u001b[0;32m      3\u001b[0m withNDVI\u001b[39m=\u001b[39mcollection\u001b[39m.\u001b[39mmap(ndvi)\n\u001b[0;32m      4\u001b[0m onlyNDVI\u001b[39m=\u001b[39mwithNDVI\u001b[39m.\u001b[39mselect(\u001b[39m'\u001b[39m\u001b[39mNDVI\u001b[39m\u001b[39m'\u001b[39m)\n",
      "\u001b[1;31mNameError\u001b[0m: name 'ee' is not defined"
     ]
    }
   ],
   "source": [
    "from function import ndvi#引入计算ndvi函数\n",
    "collection = ee.ImageCollection('LANDSAT/LC08/C02/T1_TOA').filter(ee.Filter.eq('WRS_PATH', 44)).filter(ee.Filter.eq('WRS_ROW', 34)).filterDate('2014-01-01', '2015-01-01')\n",
    "withNDVI=collection.map(ndvi)\n",
    "onlyNDVI=withNDVI.select('NDVI')\n",
    "#计算中位数\n",
    "medianNDVI=onlyNDVI.median()\n"
   ]
  }
 ],
 "metadata": {
  "kernelspec": {
   "display_name": "multimode",
   "language": "python",
   "name": "python3"
  },
  "language_info": {
   "codemirror_mode": {
    "name": "ipython",
    "version": 3
   },
   "file_extension": ".py",
   "mimetype": "text/x-python",
   "name": "python",
   "nbconvert_exporter": "python",
   "pygments_lexer": "ipython3",
   "version": "3.8.17"
  },
  "orig_nbformat": 4
 },
 "nbformat": 4,
 "nbformat_minor": 2
}
